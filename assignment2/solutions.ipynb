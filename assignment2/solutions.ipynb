{
 "cells": [
  {
   "cell_type": "markdown",
   "metadata": {
    "collapsed": true,
    "deletable": true,
    "editable": true
   },
   "source": [
    "# Problem 4"
   ]
  },
  {
   "cell_type": "code",
   "execution_count": 48,
   "metadata": {
    "collapsed": true
   },
   "outputs": [],
   "source": [
    "import numpy as np\n",
    "from math import log"
   ]
  },
  {
   "cell_type": "code",
   "execution_count": 56,
   "metadata": {
    "collapsed": false
   },
   "outputs": [],
   "source": [
    "freq_table = np.array([\n",
    "# en      pl       sp   \n",
    "[0.08167, 0.10503, 0.11525], # a\n",
    "[0.12702, 0.07352, 0.12181], # e\n",
    "[0.06966, 0.08328, 0.06247], # i\n",
    "[0.07507, 0.02445, 0.08683], # o\n",
    "[0.02758, 0.02062, 0.02927], # u\n",
    "[0.01974, 0.03206, 0.01008], # y\n",
    "[0.59926, 0.66104, 0.57429]])# other\n",
    "lang_probs = np.array([\n",
    "# en pl sp  \n",
    ".3, .3, .3])\n",
    "\n",
    "languages = ['en', 'pl', 'sp']\n",
    "\n",
    "def lang2ind(lang):\n",
    "    return languages.index(lang)\n",
    "\n",
    "def letter2ind(letter):\n",
    "    vowels = 'aeiouy'\n",
    "    i = vowels.find(letter)\n",
    "    if i == -1: # other\n",
    "        i = len(vowels)\n",
    "        assert i == 6\n",
    "    return i\n",
    "        \n",
    "def letter_lang_prob(letter, lang):\n",
    "    return freq_table[letter2ind(letter), lang2ind(lang)]"
   ]
  },
  {
   "cell_type": "code",
   "execution_count": 60,
   "metadata": {
    "collapsed": false
   },
   "outputs": [],
   "source": [
    "def string_lang_prob(string, lang, log_prob=True):\n",
    "    string = np.array(list(string))\n",
    "    (letters, counts) = np.unique(string, return_counts=True)\n",
    "    prob = lang_probs[lang2ind(lang)]\n",
    "    if log_prob:\n",
    "        prob = log(prob)\n",
    "    for (l,c) in zip(letters, counts):\n",
    "        p = letter_lang_prob(l, lang)\n",
    "        if log_prob:\n",
    "            prob += c*log(p)\n",
    "        else:\n",
    "            prob *= p**c\n",
    "    return prob\n",
    "        "
   ]
  },
  {
   "cell_type": "code",
   "execution_count": 61,
   "metadata": {
    "collapsed": true
   },
   "outputs": [],
   "source": [
    "def classify_string(string):\n",
    "    probs = [ string_lang_prob(string, lang) for lang in languages ]\n",
    "    ind = np.array(probs).argmax()\n",
    "    print(probs, end=' ')\n",
    "    return languages[ind]"
   ]
  },
  {
   "cell_type": "code",
   "execution_count": 62,
   "metadata": {
    "collapsed": false
   },
   "outputs": [
    {
     "name": "stdout",
     "output_type": "stream",
     "text": [
      "bull :\n",
      "[-6.3308163657853296, -6.3272893844868836, -6.399027333901266] result = pl\n",
      "burro :\n",
      "[-8.9201506331825549, -10.03841444754814, -8.8428304288108475] result = sp\n",
      "kurczak :\n",
      "[-9.8600043439588934, -9.4086804930127528, -9.6689204985379682] result = pl\n",
      "pollo :\n",
      "[-7.9188204939628015, -9.8680457102160712, -7.7554413454420894] result = sp\n",
      "litwo, ojczyzno moja, ty jesteś jak zdrowie :\n",
      "[-53.37921974654337, -55.952882877170573, -54.884714385730781] result = en\n",
      "dinero :\n",
      "[-10.057025965217166, -11.252665302764944, -10.189999913279435] result = en\n",
      "mama just killed a man put a gun against his head :\n",
      "[-61.033693551686511, -57.213614991625064, -59.91504014324137] result = pl\n",
      "maradona es mas grande que pele :\n",
      "[-39.955502456771718, -40.980004554386255, -39.046485080939703] result = sp\n"
     ]
    }
   ],
   "source": [
    "samples = [\n",
    "    'bull',\n",
    "    'burro',\n",
    "    'kurczak',\n",
    "    'pollo',\n",
    "    'litwo, ojczyzno moja, ty jesteś jak zdrowie',\n",
    "    'dinero',\n",
    "    'mama just killed a man put a gun against his head',\n",
    "    'maradona es mas grande que pele'\n",
    "]\n",
    "for s in samples:\n",
    "    print(s, ':')\n",
    "    l = classify_string(s)\n",
    "    print('result =', l)"
   ]
  },
  {
   "cell_type": "markdown",
   "metadata": {},
   "source": [
    "# Problem 6"
   ]
  },
  {
   "cell_type": "code",
   "execution_count": 63,
   "metadata": {
    "collapsed": true
   },
   "outputs": [],
   "source": [
    "# plot bernoulli"
   ]
  },
  {
   "cell_type": "markdown",
   "metadata": {},
   "source": [
    "# Problem 7"
   ]
  },
  {
   "cell_type": "code",
   "execution_count": 64,
   "metadata": {
    "collapsed": true
   },
   "outputs": [],
   "source": [
    "# rock, paper scissors machine"
   ]
  },
  {
   "cell_type": "code",
   "execution_count": null,
   "metadata": {
    "collapsed": true
   },
   "outputs": [],
   "source": []
  },
  {
   "cell_type": "code",
   "execution_count": null,
   "metadata": {
    "collapsed": true
   },
   "outputs": [],
   "source": []
  }
 ],
 "metadata": {
  "kernelspec": {
   "display_name": "Python 3",
   "language": "python",
   "name": "python3"
  },
  "language_info": {
   "codemirror_mode": {
    "name": "ipython",
    "version": 3
   },
   "file_extension": ".py",
   "mimetype": "text/x-python",
   "name": "python",
   "nbconvert_exporter": "python",
   "pygments_lexer": "ipython3",
   "version": "3.4.2"
  }
 },
 "nbformat": 4,
 "nbformat_minor": 2
}
