{
 "cells": [
  {
   "cell_type": "markdown",
   "metadata": {
    "deletable": true,
    "editable": true
   },
   "source": [
    "# Assignment 5\n",
    "\n",
    "**Submission deadline: last lab session before or on Tuesday, 09.5.17**\n",
    "\n",
    "**Points: 9 + 10 bonus points**\n",
    "\n",
    "\n",
    "## Downloading this notebook\n",
    "\n",
    "This assignment is an Jupyter notebook. Download it by cloning https://github.com/janchorowski/nn_assignments. Follow the instructions in its README for instructions.\n",
    "\n",
    "For programming exerciese add your solutions to the notebook. For math exercies please provide us with answers on paper or type them in the notebook (it supports Latex-like equations).\n",
    "\n",
    "Please do not hesitate to use GitHub’s pull requests to send us corrections!"
   ]
  },
  {
   "cell_type": "code",
   "execution_count": 1,
   "metadata": {
    "collapsed": false,
    "deletable": true,
    "editable": true
   },
   "outputs": [
    {
     "name": "stderr",
     "output_type": "stream",
     "text": [
      "Vendor:  Continuum Analytics, Inc.\n",
      "Package: mkl\n",
      "Message: trial mode expires in 30 days\n"
     ]
    },
    {
     "name": "stdout",
     "output_type": "stream",
     "text": [
      "Populating the interactive namespace from numpy and matplotlib\n"
     ]
    }
   ],
   "source": [
    "%pylab inline"
   ]
  },
  {
   "cell_type": "markdown",
   "metadata": {
    "deletable": true,
    "editable": true
   },
   "source": [
    "# Modular network implementation\n",
    "\n",
    "This assignment builds on code from Assignment 4, Problem 7. \n",
    "For your convenience, we have copied the code below. Please copy your solution from the old list, or fill in the blanks below to get a working network.\n",
    "\n",
    "In the following cells, I implement in a modular way a feedforward neural network. Please study the code - many network implementations follow a similar pattern.\n",
    "\n",
    "Please make sure that the network trains to nearly 100% accuracy on Iris.\n",
    "\n",
    "## Task\n",
    "\n",
    "Your job is to implement SGD training on MNIST with the following elements:\n",
    "1. SGD + momentum\n",
    "2. weight decay\n",
    "3. early stopping\n",
    "\n",
    "In overall, you should get below **2% testing errors**"
   ]
  },
  {
   "cell_type": "code",
   "execution_count": 2,
   "metadata": {
    "collapsed": true,
    "deletable": true,
    "editable": true
   },
   "outputs": [],
   "source": [
    "#\n",
    "# These are taken from https://github.com/mila-udem/blocks\n",
    "# \n",
    "\n",
    "class Constant():\n",
    "    \"\"\"Initialize parameters to a constant.\n",
    "    The constant may be a scalar or a :class:`~numpy.ndarray` of any shape\n",
    "    that is broadcastable with the requested parameter arrays.\n",
    "    Parameters\n",
    "    ----------\n",
    "    constant : :class:`~numpy.ndarray`\n",
    "        The initialization value to use. Must be a scalar or an ndarray (or\n",
    "        compatible object, such as a nested list) that has a shape that is\n",
    "        broadcastable with any shape requested by `initialize`.\n",
    "    \"\"\"\n",
    "    def __init__(self, constant):\n",
    "        self._constant = numpy.asarray(constant)\n",
    "\n",
    "    def generate(self, rng, shape):\n",
    "        dest = numpy.empty(shape, dtype=np.float32)\n",
    "        dest[...] = self._constant\n",
    "        return dest\n",
    "\n",
    "\n",
    "class IsotropicGaussian():\n",
    "    \"\"\"Initialize parameters from an isotropic Gaussian distribution.\n",
    "    Parameters\n",
    "    ----------\n",
    "    std : float, optional\n",
    "        The standard deviation of the Gaussian distribution. Defaults to 1.\n",
    "    mean : float, optional\n",
    "        The mean of the Gaussian distribution. Defaults to 0\n",
    "    Notes\n",
    "    -----\n",
    "    Be careful: the standard deviation goes first and the mean goes\n",
    "    second!\n",
    "    \"\"\"\n",
    "    def __init__(self, std=1, mean=0):\n",
    "        self._mean = mean\n",
    "        self._std = std\n",
    "\n",
    "    def generate(self, rng, shape):\n",
    "        m = rng.normal(self._mean, self._std, size=shape)\n",
    "        return m.astype(np.float32)\n",
    "\n",
    "\n",
    "class Uniform():\n",
    "    \"\"\"Initialize parameters from a uniform distribution.\n",
    "    Parameters\n",
    "    ----------\n",
    "    mean : float, optional\n",
    "        The mean of the uniform distribution (i.e. the center of mass for\n",
    "        the density function); Defaults to 0.\n",
    "    width : float, optional\n",
    "        One way of specifying the range of the uniform distribution. The\n",
    "        support will be [mean - width/2, mean + width/2]. **Exactly one**\n",
    "        of `width` or `std` must be specified.\n",
    "    std : float, optional\n",
    "        An alternative method of specifying the range of the uniform\n",
    "        distribution. Chooses the width of the uniform such that random\n",
    "        variates will have a desired standard deviation. **Exactly one** of\n",
    "        `width` or `std` must be specified.\n",
    "    \"\"\"\n",
    "    def __init__(self, mean=0., width=None, std=None):\n",
    "        if (width is not None) == (std is not None):\n",
    "            raise ValueError(\"must specify width or std, \"\n",
    "                             \"but not both\")\n",
    "        if std is not None:\n",
    "            # Variance of a uniform is 1/12 * width^2\n",
    "            self._width = numpy.sqrt(12) * std\n",
    "        else:\n",
    "            self._width = width\n",
    "        self._mean = mean\n",
    "\n",
    "    def generate(self, rng, shape):\n",
    "        w = self._width / 2\n",
    "        m = rng.uniform(self._mean - w, self._mean + w, size=shape)\n",
    "        return m.astype(np.float32)\n"
   ]
  },
  {
   "cell_type": "code",
   "execution_count": 3,
   "metadata": {
    "collapsed": false,
    "deletable": true,
    "editable": true
   },
   "outputs": [],
   "source": [
    "class Layer(object):\n",
    "    def __init__(self, rng=None):\n",
    "        if rng is None:\n",
    "            rng = numpy.random\n",
    "        self.rng = rng\n",
    "    \n",
    "    @property\n",
    "    def parameters(self):\n",
    "        return []\n",
    "    \n",
    "    @property\n",
    "    def parameter_names(self):\n",
    "        return []\n",
    "    \n",
    "    def get_gradients(self, dLdY, fprop_context):\n",
    "        return []\n",
    "    \n",
    "    def initialize_parameters(self):\n",
    "        pass\n",
    "    \n",
    "\n",
    "class AffineLayer(Layer):\n",
    "    def __init__(self, num_in, num_out, weight_init=None, bias_init=None, **kwargs):\n",
    "        super(AffineLayer, self).__init__(**kwargs)\n",
    "        \n",
    "        if weight_init is None:\n",
    "            # propose a default initialization scheme.\n",
    "\n",
    "            # Jan Chorowski in problem 4 from current assignment:\n",
    "            # \"You can use the following initialization methods for\n",
    "            # network parameters: a) initialize weight matrices with small random\n",
    "            # numbers (eg. drawn from N(0, 0.2) ), b) initialize bias\n",
    "            # vectors with zeros.\n",
    "            weight_init = IsotropicGaussian(std=0.2, mean=0.0)\n",
    "        if bias_init is None:\n",
    "            bias_init = Constant(0.0)\n",
    "            \n",
    "        self.num_in = num_in\n",
    "        self.num_out = num_out            \n",
    "        self.weight_init = weight_init\n",
    "        self.bias_init = bias_init    \n",
    "        self.initialize_parameters()\n",
    "    \n",
    "    def initialize_parameters(self):\n",
    "        self.W = self.weight_init.generate(self.rng, (self.num_out, self.num_in))\n",
    "        self.b = self.bias_init.generate(self.rng, (self.num_out, 1))\n",
    "    \n",
    "    @property\n",
    "    def parameters(self):\n",
    "        return [self.W, self.b]\n",
    "    \n",
    "    @property\n",
    "    def parameter_names(self):\n",
    "        return ['W','b']\n",
    "    \n",
    "    def fprop(self, X):\n",
    "        #Save X for later reusal\n",
    "        fprop_context = dict(X=X)\n",
    "        Y = np.dot(self.W, X) +  self.b\n",
    "        return Y, fprop_context\n",
    "    \n",
    "    def bprop(self, dLdY, fprop_context):\n",
    "        # fill in gradient computation\n",
    "        dLdX = self.W.T.dot(dLdY)\n",
    "        return dLdX\n",
    "    \n",
    "    def get_gradients(self, dLdY, fprop_context):\n",
    "        X = fprop_context['X']\n",
    "        dLdW = np.dot(dLdY, X.T)\n",
    "        dLdb = dLdY.sum(1, keepdims=True)\n",
    "        return [dLdW, dLdb]\n",
    "    \n",
    "class TanhLayer(Layer):\n",
    "    def __init__(self, **kwargs):\n",
    "        super(TanhLayer, self).__init__(**kwargs)\n",
    "    \n",
    "    def fprop(self, X):\n",
    "        Y = np.tanh(X)\n",
    "        fprop_context = dict(Y=Y)\n",
    "        return Y, fprop_context\n",
    "    \n",
    "    def bprop(self, dLdY, fprop_context):\n",
    "        Y = fprop_context['Y']\n",
    "        # Fill in proper gradient computation\n",
    "        return dLdY * (1.0 - Y**2)\n",
    "\n",
    "    \n",
    "class ReLULayer(Layer):\n",
    "    def __init__(self, **kwargs):\n",
    "        super(ReLULayer, self).__init__(**kwargs)\n",
    "    \n",
    "    def fprop(self, X):\n",
    "        Y = np.maximum(X, 0.0)\n",
    "        fprop_context = dict(Y=Y)\n",
    "        return Y, fprop_context\n",
    "    \n",
    "    def bprop(self, dLdY, fprop_context):\n",
    "        Y = fprop_context['Y']\n",
    "        return dLdY * (Y>0) \n",
    "\n",
    "    \n",
    "class SoftMaxLayer(Layer):\n",
    "    def __init__(self, **kwargs):\n",
    "        super(SoftMaxLayer, self).__init__(**kwargs)\n",
    "    \n",
    "    def compute_probabilities(self, X):\n",
    "        O = X - X.max(axis=0, keepdims=True)\n",
    "        O = np.exp(O)\n",
    "        O /= O.sum(axis=0, keepdims=True)\n",
    "        return O\n",
    "    \n",
    "    def fprop_cost(self, X, Y):\n",
    "        NS = X.shape[1]\n",
    "        O = self.compute_probabilities(X)\n",
    "        Cost = -1.0/NS * np.log(O[Y.ravel(), list(range(NS))]).sum()\n",
    "        return Cost, O, dict(O=O, X=X, Y=Y)\n",
    "    \n",
    "    def bprop_cost(self, fprop_context):\n",
    "        X = fprop_context['X']\n",
    "        Y = fprop_context['Y']\n",
    "        O = fprop_context['O']\n",
    "        NS = X.shape[1]\n",
    "        dLdX = O.copy()\n",
    "        dLdX[Y, list(range(NS))] -= 1.0\n",
    "        dLdX /= NS\n",
    "        return dLdX\n",
    "    \n",
    "class FeedForwardNet(object):\n",
    "    def __init__(self, layers=None):\n",
    "        if layers is None:\n",
    "            layers = []\n",
    "        self.layers = layers\n",
    "    \n",
    "    def add(self, layer):\n",
    "        self.layers.append(layer)\n",
    "    \n",
    "    @property\n",
    "    def parameters(self):\n",
    "        params = []\n",
    "        for layer in self.layers:\n",
    "            params += layer.parameters\n",
    "        return params\n",
    "    \n",
    "    @parameters.setter\n",
    "    def parameters(self, values):\n",
    "        for ownP, newP in zip(self.parameters, values):\n",
    "            ownP[...] = newP\n",
    "    \n",
    "    @property\n",
    "    def parameter_names(self):\n",
    "        param_names = []\n",
    "        for layer in self.layers:\n",
    "            param_names += layer.parameter_names\n",
    "        return param_names\n",
    "    \n",
    "    def reset(self):\n",
    "        for layer in self.layers:\n",
    "            layer.initialize_parameters()\n",
    "    \n",
    "    def fprop(self, X):\n",
    "        for layer in self.layers[:-1]:\n",
    "            X, fp_context = layer.fprop(X)\n",
    "        return self.layers[-1].compute_probabilities(X)\n",
    "    \n",
    "    def get_cost_and_gradient(self, X, Y):\n",
    "        fp_contexts = []\n",
    "        for layer in self.layers[:-1]:\n",
    "            X, fp_context = layer.fprop(X)\n",
    "            fp_contexts.append(fp_context)\n",
    "        \n",
    "        L, O, fp_context = self.layers[-1].fprop_cost(X, Y)\n",
    "        dLdX = self.layers[-1].bprop_cost(fp_context)\n",
    "        \n",
    "        dLdP = [] #gradient with respect to parameters\n",
    "        for i in range(len(self.layers)-1):\n",
    "            layer = self.layers[len(self.layers)-2-i]\n",
    "            fp_context = fp_contexts[len(self.layers)-2-i]\n",
    "            dLdP = layer.get_gradients(dLdX, fp_context) + dLdP\n",
    "            dLdX = layer.bprop(dLdX, fp_context)\n",
    "        return L, O, dLdP\n"
   ]
  },
  {
   "cell_type": "code",
   "execution_count": 4,
   "metadata": {
    "collapsed": false,
    "deletable": true,
    "editable": true
   },
   "outputs": [],
   "source": [
    "#training algorithms. They change the network!\n",
    "def GD(net, X, Y, alpha=1e-4, max_iters=1000000, tolerance=1e-6):\n",
    "    \"\"\"\n",
    "    Simple batch gradient descent\n",
    "    \"\"\"\n",
    "    old_L = np.inf\n",
    "    for i in xrange(max_iters):\n",
    "        L, O, gradients = net.get_cost_and_gradient(X, Y)\n",
    "        if old_L < L:\n",
    "            print \"Iter: %d, loss increased!!\" % (i,)\n",
    "        if (old_L - L)<tolerance:\n",
    "            print \"Tolerance level reached exiting\"\n",
    "            break\n",
    "        if i % 1000 == 0:\n",
    "            err_rate = (O.argmax(0) != Y).mean()\n",
    "            print \"At iteration %d, loss %f, train error rate %f%%\" % (i, L, err_rate*100)\n",
    "        for P,G in zip(net.parameters, gradients):\n",
    "            P -= alpha * G\n",
    "        old_L = L"
   ]
  },
  {
   "cell_type": "code",
   "execution_count": 5,
   "metadata": {
    "collapsed": true,
    "deletable": true,
    "editable": true
   },
   "outputs": [],
   "source": [
    "from sklearn import datasets\n",
    "iris = datasets.load_iris()\n",
    "IrisX = iris.data.T\n",
    "IrisX = (IrisX - IrisX.mean(axis=1, keepdims=True)) / IrisX.std(axis=1, keepdims=True)\n",
    "IrisY = iris.target.reshape(1,-1)"
   ]
  },
  {
   "cell_type": "code",
   "execution_count": 6,
   "metadata": {
    "collapsed": false,
    "deletable": true,
    "editable": true,
    "scrolled": true
   },
   "outputs": [
    {
     "name": "stdout",
     "output_type": "stream",
     "text": [
      "At iteration 0, loss 0.982549, train error rate 36.000000%\n",
      "At iteration 1000, loss 0.053875, train error rate 2.000000%\n",
      "At iteration 2000, loss 0.044129, train error rate 1.333333%\n",
      "At iteration 3000, loss 0.041475, train error rate 1.333333%\n",
      "At iteration 4000, loss 0.040229, train error rate 1.333333%\n",
      "At iteration 5000, loss 0.039409, train error rate 1.333333%\n",
      "At iteration 6000, loss 0.038765, train error rate 1.333333%\n",
      "At iteration 7000, loss 0.038223, train error rate 1.333333%\n",
      "At iteration 8000, loss 0.037756, train error rate 1.333333%\n",
      "At iteration 9000, loss 0.037347, train error rate 1.333333%\n",
      "At iteration 10000, loss 0.036983, train error rate 1.333333%\n",
      "At iteration 11000, loss 0.036646, train error rate 1.333333%\n",
      "At iteration 12000, loss 0.036319, train error rate 1.333333%\n",
      "At iteration 13000, loss 0.035975, train error rate 1.333333%\n",
      "At iteration 14000, loss 0.035577, train error rate 1.333333%\n",
      "At iteration 15000, loss 0.035085, train error rate 1.333333%\n",
      "At iteration 16000, loss 0.034465, train error rate 1.333333%\n",
      "At iteration 17000, loss 0.033695, train error rate 1.333333%\n",
      "At iteration 18000, loss 0.032737, train error rate 1.333333%\n",
      "At iteration 19000, loss 0.031499, train error rate 1.333333%\n",
      "At iteration 20000, loss 0.029848, train error rate 1.333333%\n",
      "At iteration 21000, loss 0.027695, train error rate 1.333333%\n",
      "At iteration 22000, loss 0.025094, train error rate 0.666667%\n",
      "At iteration 23000, loss 0.022254, train error rate 0.666667%\n",
      "At iteration 24000, loss 0.019443, train error rate 0.666667%\n",
      "At iteration 25000, loss 0.016876, train error rate 0.666667%\n",
      "At iteration 26000, loss 0.014658, train error rate 0.666667%\n",
      "At iteration 27000, loss 0.012796, train error rate 0.666667%\n",
      "At iteration 28000, loss 0.011248, train error rate 0.000000%\n",
      "At iteration 29000, loss 0.009960, train error rate 0.000000%\n",
      "At iteration 30000, loss 0.008882, train error rate 0.000000%\n",
      "At iteration 31000, loss 0.007975, train error rate 0.000000%\n",
      "At iteration 32000, loss 0.007206, train error rate 0.000000%\n",
      "At iteration 33000, loss 0.006550, train error rate 0.000000%\n",
      "At iteration 34000, loss 0.005986, train error rate 0.000000%\n",
      "At iteration 35000, loss 0.005498, train error rate 0.000000%\n",
      "At iteration 36000, loss 0.005074, train error rate 0.000000%\n",
      "At iteration 37000, loss 0.004703, train error rate 0.000000%\n",
      "At iteration 38000, loss 0.004376, train error rate 0.000000%\n",
      "At iteration 39000, loss 0.004087, train error rate 0.000000%\n",
      "At iteration 40000, loss 0.003831, train error rate 0.000000%\n",
      "At iteration 41000, loss 0.003601, train error rate 0.000000%\n",
      "At iteration 42000, loss 0.003396, train error rate 0.000000%\n",
      "At iteration 43000, loss 0.003211, train error rate 0.000000%\n",
      "At iteration 44000, loss 0.003043, train error rate 0.000000%\n",
      "At iteration 45000, loss 0.002891, train error rate 0.000000%\n",
      "At iteration 46000, loss 0.002752, train error rate 0.000000%\n",
      "At iteration 47000, loss 0.002625, train error rate 0.000000%\n",
      "At iteration 48000, loss 0.002509, train error rate 0.000000%\n",
      "At iteration 49000, loss 0.002401, train error rate 0.000000%\n",
      "Tolerance level reached exiting\n"
     ]
    }
   ],
   "source": [
    "#\n",
    "# Here we verify that the network can be trained on Irises.\n",
    "# Most runs should result in 100% accurracy\n",
    "#\n",
    "\n",
    "net = FeedForwardNet([\n",
    "        AffineLayer(4,10),\n",
    "        TanhLayer(),\n",
    "        AffineLayer(10,3),\n",
    "        SoftMaxLayer()\n",
    "        ])\n",
    "GD(net, IrisX,IrisY, 1e-1, tolerance=1e-7, max_iters=50000)"
   ]
  },
  {
   "cell_type": "markdown",
   "metadata": {
    "deletable": true,
    "editable": true
   },
   "source": [
    "## Reading data from Fuel\n",
    "\n",
    "The following cell prepares the data pipeline in fuel. please see SGD template for usage example"
   ]
  },
  {
   "cell_type": "code",
   "execution_count": 7,
   "metadata": {
    "collapsed": false,
    "deletable": true,
    "editable": true
   },
   "outputs": [],
   "source": [
    "from fuel.datasets.mnist import MNIST\n",
    "from fuel.transformers import ScaleAndShift, Cast, Flatten, Mapping\n",
    "from fuel.streams import DataStream\n",
    "from fuel.schemes import SequentialScheme, ShuffledScheme\n",
    "\n",
    "MNIST.default_transformers = (\n",
    "    (ScaleAndShift, [2.0 / 255.0, -1], {'which_sources': 'features'}),\n",
    "    (Cast, [np.float32], {'which_sources': 'features'}), \n",
    "    (Flatten, [], {'which_sources': 'features'}),\n",
    "    (Mapping, [lambda batch: (b.T for b in batch)], {}) )\n",
    "\n",
    "mnist_train = MNIST((\"train\",), subset=slice(None,50000))\n",
    "#this stream will shuffle the MNIST set and return us batches of 100 examples\n",
    "mnist_train_stream = DataStream.default_stream(\n",
    "    mnist_train,\n",
    "    iteration_scheme=ShuffledScheme(mnist_train.num_examples, 100))\n",
    "                                               \n",
    "mnist_validation = MNIST((\"train\",), subset=slice(50000, None))\n",
    "\n",
    "# We will use larger portions for testing and validation\n",
    "# as these dont do a backward pass and reauire less RAM.\n",
    "mnist_validation_stream = DataStream.default_stream(\n",
    "    mnist_validation, iteration_scheme=SequentialScheme(mnist_validation.num_examples, 250))\n",
    "mnist_test = MNIST((\"test\",))\n",
    "mnist_test_stream = DataStream.default_stream(\n",
    "    mnist_test, iteration_scheme=SequentialScheme(mnist_test.num_examples, 250))"
   ]
  },
  {
   "cell_type": "code",
   "execution_count": 8,
   "metadata": {
    "collapsed": false,
    "deletable": true,
    "editable": true
   },
   "outputs": [
    {
     "name": "stdout",
     "output_type": "stream",
     "text": [
      "The streams return batches containing (u'features', u'targets')\n",
      "Each trainin batch consits of a tuple containing:\n",
      " - an array of size (784, 100) containing float32\n",
      " - an array of size (1, 100) containing uint8\n",
      "Validation/test batches consits of tuples containing:\n",
      " - an array of size (784, 250) containing float32\n",
      " - an array of size (1, 250) containing uint8\n"
     ]
    }
   ],
   "source": [
    "print \"The streams return batches containing %s\" % (mnist_train_stream.sources,)\n",
    "\n",
    "print \"Each trainin batch consits of a tuple containing:\"\n",
    "for element in next(mnist_train_stream.get_epoch_iterator()):\n",
    "    print \" - an array of size %s containing %s\" % (element.shape, element.dtype)\n",
    "    \n",
    "print \"Validation/test batches consits of tuples containing:\"\n",
    "for element in next(mnist_test_stream.get_epoch_iterator()):\n",
    "    print \" - an array of size %s containing %s\" % (element.shape, element.dtype)"
   ]
  },
  {
   "cell_type": "markdown",
   "metadata": {
    "deletable": true,
    "editable": true
   },
   "source": [
    "# Problem 1 [4p]\n",
    "\n",
    "Implement the following additions to the SGD code below:\n",
    "1. Momentum [2p]\n",
    "2. Learning rate schedule [1p]\n",
    "3. Weight decay [1p]. One way to implement it is to use the functions `net.params` and `net.param_names` to get all parameters whose names are \"W\" and not \"b\"."
   ]
  },
  {
   "cell_type": "code",
   "execution_count": 17,
   "metadata": {
    "collapsed": false,
    "deletable": true,
    "editable": true
   },
   "outputs": [
    {
     "data": {
      "text/plain": [
       "\"        \\n        subplot(2,1,1)\\n        train_loss = np.array(train_loss)\\n        semilogy(train_loss[:,0], train_loss[:,1], label='batch train loss')\\n        legend()\\n        \\n        subplot(2,1,2)\\n        train_erros = np.array(train_erros)\\n        plot(train_erros[:,0], train_erros[:,1], label='batch train error rate')\\n        validation_errors = np.array(validation_errors)\\n        plot(validation_errors[:,0], validation_errors[:,1], label='validation error rate', color='r')\\n        ylim(0,0.2)\\n        legend()\\n\""
      ]
     },
     "execution_count": 17,
     "metadata": {},
     "output_type": "execute_result"
    }
   ],
   "source": [
    "# # Please note, the code blow is able to train a SoftMax regression model on mnist to poor results (ca 8%test error), \n",
    "# you must improve it\n",
    "#\n",
    "\n",
    "from copy import deepcopy\n",
    "\n",
    "def compute_error_rate(net, stream):\n",
    "    num_errs = 0.0\n",
    "    num_examples = 0\n",
    "    for X, Y in stream.get_epoch_iterator():\n",
    "        O = net.fprop(X)\n",
    "        num_errs += (O.argmax(0) != Y).sum()\n",
    "        num_examples += X.shape[1]\n",
    "    return num_errs/num_examples\n",
    "\n",
    "def SGD(net, train_stream, validation_stream, test_stream,\n",
    "        momentum=0.5,\n",
    "        regularization=0.01,\n",
    "        initial_learning_rate=5e-2,\n",
    "        learning_rate_schedule=1e6):\n",
    "    i=0\n",
    "    e=0\n",
    "    \n",
    "    #initialize momentum variables\n",
    "    velocities = [np.zeros_like(P) for P in net.parameters]\n",
    "    \n",
    "    best_valid_error_rate = np.inf\n",
    "    best_params = deepcopy(net.parameters)\n",
    "    best_params_epoch = 0\n",
    "    \n",
    "    train_erros = []\n",
    "    train_loss = []\n",
    "    validation_errors = []\n",
    "    \n",
    "    number_of_epochs = 3\n",
    "    patience_expansion = 1.5\n",
    "    \n",
    "    try:\n",
    "        while e < number_of_epochs: #This loop goes over epochs\n",
    "            e += 1\n",
    "            #First train on all data from this batch\n",
    "            for X,Y in train_stream.get_epoch_iterator(): \n",
    "                i += 1\n",
    "                L, O, gradients = net.get_cost_and_gradient(X, Y)\n",
    "                err_rate = (O.argmax(0) != Y).mean()\n",
    "                train_loss.append((i,L))\n",
    "                train_erros.append((i,err_rate))\n",
    "                if i % 100 == 0:\n",
    "                    pass #print \"At minibatch %d, batch loss %f, batch error rate %f%%\" % (i, L, err_rate*100)\n",
    "                for P, V, G, N in zip(net.parameters, velocities, gradients, net.parameter_names):\n",
    "                    if N=='W':\n",
    "                        # implement the weight decay addition to gradient\n",
    "                        G -= regularization\n",
    "                    \n",
    "                    # set a learning rate\n",
    "                    learning_rate = initial_learning_rate*learning_rate_schedule/max(i,learning_rate_schedule)\n",
    "                    \n",
    "                    # implement velocity update in momentum\n",
    "                    V = momentum * V - learning_rate * G\n",
    "\n",
    "                    # set a more sensible learning rule here,\n",
    "                    # using your learning rate schedule and momentum                    \n",
    "                    P += V\n",
    "                    \n",
    "            # After an epoch compute validation error\n",
    "            val_error_rate = compute_error_rate(net, validation_stream)\n",
    "            if val_error_rate < best_valid_error_rate:\n",
    "                number_of_epochs = np.maximum(number_of_epochs, e * patience_expansion+1)\n",
    "                best_valid_error_rate = val_error_rate\n",
    "                best_params = deepcopy(net.parameters)\n",
    "                best_params_epoch = e\n",
    "                validation_errors.append((i,val_error_rate))\n",
    "#            print \"After epoch %d: valid_err_rate: %f%% currently going to do %d epochs\" %(e, val_error_rate, number_of_epochs)\n",
    "            \n",
    "    except KeyboardInterrupt:\n",
    "        pass #print(\"Interrupted...\")\n",
    "    finally:\n",
    "#        print \"Setting network parameters from after epoch %d\" %(best_params_epoch)\n",
    "        net.parameters = best_params\n",
    "'''        \n",
    "        subplot(2,1,1)\n",
    "        train_loss = np.array(train_loss)\n",
    "        semilogy(train_loss[:,0], train_loss[:,1], label='batch train loss')\n",
    "        legend()\n",
    "        \n",
    "        subplot(2,1,2)\n",
    "        train_erros = np.array(train_erros)\n",
    "        plot(train_erros[:,0], train_erros[:,1], label='batch train error rate')\n",
    "        validation_errors = np.array(validation_errors)\n",
    "        plot(validation_errors[:,0], validation_errors[:,1], label='validation error rate', color='r')\n",
    "        ylim(0,0.2)\n",
    "        legend()\n",
    "'''"
   ]
  },
  {
   "cell_type": "markdown",
   "metadata": {
    "deletable": true,
    "editable": true
   },
   "source": [
    "# Problem 2 [5p]\n",
    "\n",
    "Tune the following network to reach below 1.9% error rate on\n",
    "the validation set. This should result in a test error below 2%. To\n",
    "tune the network you will need to:\n",
    "1. choose the number of layers (more than 1, less than 5),\n",
    "2. choose the number of neurons in each layer (more than 100,\n",
    "    less than 5000),\n",
    "3. pick proper weight initialization,\n",
    "4. pick proper learning rate schedule (need to decay over time,\n",
    "    good range to check on MNIST is about 1e-2 ... 1e-1 at the beginning and\n",
    "    half of that after 10000 batches),\n",
    "5. pick a momentum constant (probably a constant one will be OK).\n"
   ]
  },
  {
   "cell_type": "code",
   "execution_count": null,
   "metadata": {
    "collapsed": true
   },
   "outputs": [],
   "source": [
    "# pick a network architecture here. \n",
    "net = FeedForwardNet([\n",
    "        AffineLayer(784,180),\n",
    "        ReLULayer(),\n",
    "        AffineLayer(180,42),\n",
    "        ReLULayer(),\n",
    "        AffineLayer(42,10),\n",
    "        SoftMaxLayer()\n",
    "        ])"
   ]
  },
  {
   "cell_type": "code",
   "execution_count": 18,
   "metadata": {
    "collapsed": false,
    "deletable": true,
    "editable": true,
    "scrolled": true
   },
   "outputs": [
    {
     "name": "stdout",
     "output_type": "stream",
     "text": [
      "  0.316228 # 3.16228e-06 #        0.1 #       1000 :     0.0519\n",
      "  0.316228 # 3.16228e-06 #        0.1 #    17782.8 :     0.0351\n",
      "  0.316228 # 3.16228e-06 #        0.1 #     316228 :     0.0312\n",
      "  0.316228 # 3.16228e-06 #        0.1 # 5.62341e+06 :     0.0291\n",
      "  0.316228 # 3.16228e-06 #        0.1 #      1e+08 :     0.0319\n"
     ]
    }
   ],
   "source": [
    "# parameters 'probing'\n",
    "\n",
    "import itertools\n",
    "\n",
    "#momentum_space = np.logspace(-0.7, -0.1, 5)\n",
    "momentum_space = np.logspace(-0.5, -0.5, 1)\n",
    "reg_space = np.logspace(-5.5, -4.5, 1)\n",
    "lr_initial_space = np.logspace(-1., -1., 1)\n",
    "lr_schedule_space = np.logspace(3, 8, 5)\n",
    "\n",
    "for (m,r,i,s) in itertools.product(momentum_space,\n",
    "                    reg_space,\n",
    "                    lr_initial_space,\n",
    "                    lr_schedule_space):\n",
    "    net.reset()\n",
    "    SGD(net, mnist_train_stream, mnist_validation_stream, mnist_test_stream,m,r,i,s)\n",
    "    print(\"{:>10g} # {:>10g} # {:>10g} # {:>10g} : {:>10g}\".format(m,r,i,s,compute_error_rate(net, mnist_test_stream), ))"
   ]
  },
  {
   "cell_type": "code",
   "execution_count": null,
   "metadata": {
    "collapsed": true,
    "deletable": true,
    "editable": true
   },
   "outputs": [],
   "source": [
    "# pretty nice results:\n",
    "# test error rate = 0.0291\n",
    "\n",
    "momentum = 0.316228\n",
    "reg = 3.16228e-06\n",
    "lr_initial = 0.1\n",
    "lr_schedule = 5.62341e+06"
   ]
  },
  {
   "cell_type": "code",
   "execution_count": null,
   "metadata": {
    "collapsed": true
   },
   "outputs": [],
   "source": [
    "# fine tuning:\n",
    "\n",
    "space = np.logspace(-1, 1, 5)\n",
    "\n",
    "print(\"momentum\")\n",
    "param_space = momentum * space\n",
    "err_rate = []\n",
    "for p in param_space:\n",
    "    net.reset()\n",
    "    SGD(net, mnist_train_stream, mnist_validation_stream, mnist_test_stream,p,reg,lr_initial,lr_schedule)\n",
    "    results.append(compute_error_rate(net, mnist_test_stream))\n",
    "\n",
    "semilogy(param_space, err_rate, label='')\n",
    "show()\n",
    "    "
   ]
  },
  {
   "cell_type": "markdown",
   "metadata": {
    "collapsed": true,
    "deletable": true,
    "editable": true
   },
   "source": [
    "# Problem 3 [2p bonus]\n",
    "\n",
    "Implement norm constraints, i.e. limit the total\n",
    "norm of connections incoming to a neuron. In our case, this\n",
    "corresponds to clipping the norm of *rows* of weight\n",
    "matrices. An easy way of implementing it is to make a gradient\n",
    "step, then look at the norm of rows and scale down those that are\n",
    "over the threshold (this technique is called \"projected gradient descent\")."
   ]
  },
  {
   "cell_type": "markdown",
   "metadata": {
    "deletable": true,
    "editable": true
   },
   "source": [
    "# Problem 4 [2p bonus]\n",
    "\n",
    "Implement a **dropout** layer and try to train a\n",
    "network getting below 1.5% test error rates with dropout (the best\n",
    "result is below 1\\% for dropout!). Details: http://arxiv.org/pdf/1207.0580.pdf."
   ]
  },
  {
   "cell_type": "markdown",
   "metadata": {
    "deletable": true,
    "editable": true
   },
   "source": [
    "# Problem 5 [3p bonus]\n",
    "\n",
    "Implement convolutional and max-pooling layers and (without dropout) get a test error rate below 1.5%."
   ]
  },
  {
   "cell_type": "markdown",
   "metadata": {
    "deletable": true,
    "editable": true
   },
   "source": [
    "# Problem 6 [1-3p bonus]\n",
    "\n",
    "Implement a data augmentation method (e.g. rotations, noise, crops) that will yield a significant test error rate reduction for your network. Number of bonus points depends on the ingenuity of your solution and error rate gains."
   ]
  },
  {
   "cell_type": "code",
   "execution_count": null,
   "metadata": {
    "collapsed": true,
    "deletable": true,
    "editable": true
   },
   "outputs": [],
   "source": []
  }
 ],
 "metadata": {
  "kernelspec": {
   "display_name": "Python 3",
   "language": "python",
   "name": "python3"
  },
  "language_info": {
   "codemirror_mode": {
    "name": "ipython",
    "version": 3
   },
   "file_extension": ".py",
   "mimetype": "text/x-python",
   "name": "python",
   "nbconvert_exporter": "python",
   "pygments_lexer": "ipython3",
   "version": "3.4.2"
  }
 },
 "nbformat": 4,
 "nbformat_minor": 0
}
